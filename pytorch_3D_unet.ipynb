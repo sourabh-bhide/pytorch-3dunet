{
  "nbformat": 4,
  "nbformat_minor": 0,
  "metadata": {
    "colab": {
      "name": "pytorch 3D unet",
      "provenance": [],
      "collapsed_sections": [],
      "authorship_tag": "ABX9TyNrlDt1/6vP67UrgGVqWk8k",
      "include_colab_link": true
    },
    "kernelspec": {
      "name": "python3",
      "display_name": "Python 3"
    },
    "language_info": {
      "name": "python"
    },
    "accelerator": "GPU"
  },
  "cells": [
    {
      "cell_type": "markdown",
      "metadata": {
        "id": "view-in-github",
        "colab_type": "text"
      },
      "source": [
        "<a href=\"https://colab.research.google.com/github/sourabh-bhide/pytorch-3dunet/blob/master/pytorch_3D_unet.ipynb\" target=\"_parent\"><img src=\"https://colab.research.google.com/assets/colab-badge.svg\" alt=\"Open In Colab\"/></a>"
      ]
    },
    {
      "cell_type": "code",
      "metadata": {
        "colab": {
          "base_uri": "https://localhost:8080/"
        },
        "id": "iFnJsZ7S9ht3",
        "outputId": "38ba9fd3-e7bb-4e34-8f9b-c50f4d096277"
      },
      "source": [
        "import tensorflow as tf\n",
        "if tf.test.gpu_device_name()=='':\n",
        "  print('NO GPU access. Check runtime settings') \n",
        "else:\n",
        "  !nvidia-smi"
      ],
      "execution_count": null,
      "outputs": [
        {
          "output_type": "stream",
          "text": [
            "Sun Apr 25 15:00:27 2021       \n",
            "+-----------------------------------------------------------------------------+\n",
            "| NVIDIA-SMI 465.19.01    Driver Version: 460.32.03    CUDA Version: 11.2     |\n",
            "|-------------------------------+----------------------+----------------------+\n",
            "| GPU  Name        Persistence-M| Bus-Id        Disp.A | Volatile Uncorr. ECC |\n",
            "| Fan  Temp  Perf  Pwr:Usage/Cap|         Memory-Usage | GPU-Util  Compute M. |\n",
            "|                               |                      |               MIG M. |\n",
            "|===============================+======================+======================|\n",
            "|   0  Tesla T4            Off  | 00000000:00:04.0 Off |                    0 |\n",
            "| N/A   60C    P0    30W /  70W |    222MiB / 15109MiB |      0%      Default |\n",
            "|                               |                      |                  N/A |\n",
            "+-------------------------------+----------------------+----------------------+\n",
            "                                                                               \n",
            "+-----------------------------------------------------------------------------+\n",
            "| Processes:                                                                  |\n",
            "|  GPU   GI   CI        PID   Type   Process name                  GPU Memory |\n",
            "|        ID   ID                                                   Usage      |\n",
            "|=============================================================================|\n",
            "+-----------------------------------------------------------------------------+\n"
          ],
          "name": "stdout"
        }
      ]
    },
    {
      "cell_type": "code",
      "metadata": {
        "id": "56x3D87v9-5N",
        "colab": {
          "base_uri": "https://localhost:8080/"
        },
        "outputId": "3b810720-d537-4973-a2fa-31fa15ee0d22"
      },
      "source": [
        "from google.colab import drive\n",
        "drive.mount('/content/gdrive', force_remount=True)"
      ],
      "execution_count": null,
      "outputs": [
        {
          "output_type": "stream",
          "text": [
            "Mounted at /content/gdrive\n"
          ],
          "name": "stdout"
        }
      ]
    },
    {
      "cell_type": "code",
      "metadata": {
        "id": "tvhYw7wU-X7a"
      },
      "source": [
        ""
      ],
      "execution_count": null,
      "outputs": []
    },
    {
      "cell_type": "markdown",
      "metadata": {
        "id": "UR6ourqF396C"
      },
      "source": [
        "sudo apt-get update\n",
        "wget https://repo.anaconda.com/miniconda/Miniconda3-py37_4.8.2-Linux-x86_64.sh\n",
        "chmod +x Miniconda3-py37_4.8.2-Linux-x86_64.sh\n",
        "bash ./Miniconda3-py37_4.8.2-Linux-x86_64.sh -b -f -p /usr/local"
      ]
    },
    {
      "cell_type": "markdown",
      "metadata": {
        "id": "LO05cP45qZ7-"
      },
      "source": [
        "# Install miniconda3 and pytorch-3dunet\n",
        "You can download and install miniconda. This is the basic form of conda. Sufficient to download conda libraries like PlantSeg "
      ]
    },
    {
      "cell_type": "code",
      "metadata": {
        "id": "MfewIqAtqhkh"
      },
      "source": [
        "! wget https://repo.anaconda.com/miniconda/Miniconda3-py37_4.8.2-Linux-x86_64.sh\n",
        "! chmod +x Miniconda3-py37_4.8.2-Linux-x86_64.sh\n",
        "! bash ./Miniconda3-py37_4.8.2-Linux-x86_64.sh -b -f -p /usr/local\n"
      ],
      "execution_count": null,
      "outputs": []
    },
    {
      "cell_type": "code",
      "metadata": {
        "id": "tLluUosN-fac"
      },
      "source": [
        ""
      ],
      "execution_count": null,
      "outputs": []
    },
    {
      "cell_type": "markdown",
      "metadata": {
        "id": "GXPR9ybJDtjo"
      },
      "source": [
        "IMPORTANT to append the correct path to python that will be used"
      ]
    },
    {
      "cell_type": "code",
      "metadata": {
        "id": "X2a9Yav1qhQe"
      },
      "source": [
        "import sys\n",
        "sys.path.append(\"/usr/local/lib/python3.7/site-packages/\")"
      ],
      "execution_count": null,
      "outputs": []
    },
    {
      "cell_type": "markdown",
      "metadata": {
        "id": "m85kTP5F-mH3"
      },
      "source": [
        "Install pytorch 3D unet"
      ]
    },
    {
      "cell_type": "code",
      "metadata": {
        "id": "NW5ITD9d-jZl"
      },
      "source": [
        "!conda create -n 3dunet -c conda-forge -c awolny pytorch-3dunet"
      ],
      "execution_count": null,
      "outputs": []
    },
    {
      "cell_type": "markdown",
      "metadata": {
        "id": "vR7GlYPQ7OYJ"
      },
      "source": [
        "#Model training using config file"
      ]
    },
    {
      "cell_type": "code",
      "metadata": {
        "id": "YDIngqNe-zwq"
      },
      "source": [
        "# activate your conda environment\n",
        "%%bash\n",
        "source activate 3dunet\n",
        "pip install ipykernel\n",
        "train3dunet --config /content/gdrive/MyDrive/config_files/training_config.yaml"
      ],
      "execution_count": null,
      "outputs": []
    },
    {
      "cell_type": "markdown",
      "metadata": {
        "id": "l607v6i96yJI"
      },
      "source": [
        ""
      ]
    },
    {
      "cell_type": "code",
      "metadata": {
        "id": "YoaD_Er5HFpy"
      },
      "source": [
        ""
      ],
      "execution_count": null,
      "outputs": []
    }
  ]
}